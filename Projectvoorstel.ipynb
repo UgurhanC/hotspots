{
 "cells": [
  {
   "cell_type": "markdown",
   "metadata": {},
   "source": [
    "# HotSpots™\n",
    "#### Barbara Easton, Tjerk Hendriksen, Kick Zurlohe, Ugurhan Candemir\n",
    "\n",
    "### Het doel van onze applicatie is het kunnen opzoeken van hotspots (populaire plekken) op de wereld. HotSpots™ is uniek omdat het een specifieke doelgroep heeft: reizigers. Ook kun je met HotSpots™ kijken wat mensen in je buurt hebben geposted om zo je omgeving te verkennen.\n",
    "\n",
    "## Features:\n",
    "* Registreren\n",
    "* Accountgegevens aanpassen\n",
    "* Foto's posten\n",
    "* Gebruikers/locaties volgen\n",
    "* Foto's filteren op location\n",
    "* Locatie foto opvragen\n",
    "* Foto's liken\n",
    "* Meldingen ontvanen en bekijken\n",
    "* Hotspots in omgeving kunnen bekijken\n",
    "* Kunnen reageren op foto's\n",
    "* Gifs uploaden\n",
    "\n",
    "## Minimum viable product\n",
    "* Gebruikers kunnen foto's posten\n",
    "* Gebruikers kunnen andere gebruikers volgen\n",
    "* Gebruikers kunnen foto's kunnen liken\n",
    "* Gebruikers kunnen gif's  uploaden\n",
    "* Gebruikers kunnen foto's uit de omgeving bekijken\n",
    "\n",
    "\n",
    "## Afhankelijkheden\n",
    "### Databronnen \n",
    "* Google Maps\n",
    "* Giphy\n",
    "\n",
    "### Externe componenten \n",
    "* Bootstrap\n",
    "* Github\n",
    "* CS50\n",
    "\n",
    "### Concurrerende bestaande websites\n",
    "* Instagram\n",
    "* Facebook\n",
    "* Tumblr\n",
    "* Pinterest\n",
    "\n",
    "### Moeilijkste delen van applicatie\n",
    "* Locaties koppelen aan foto's\n",
    "* Google Maps gebruiken om afstanden te berekenen tussen huidige locatie en Hotspot\n",
    "* Hotspots in jouw omgeving opvragen\n",
    "\n",
    "## Schetsen\n",
    "\n",
    "![alt text](register.jpeg \"Register\")\n",
    "![alt text](login.jpeg \"Login\")\n",
    "![alt text](index.jpeg \"Index\")\n",
    "![alt text](profile.jpeg \"Profile\")\n",
    "![alt text](hotspot.jpeg \"Hotspots\")\n",
    "![alt text](maps.jpeg \"Map\")\n",
    "![alt text](settings.jpeg \"Settings\")"
   ]
  },
  {
   "cell_type": "code",
   "execution_count": null,
   "metadata": {
    "collapsed": true
   },
   "outputs": [],
   "source": []
  }
 ],
 "metadata": {
  "kernelspec": {
   "display_name": "Python 3",
   "language": "python",
   "name": "python3"
  },
  "language_info": {
   "codemirror_mode": {
    "name": "ipython",
    "version": 3
   },
   "file_extension": ".py",
   "mimetype": "text/x-python",
   "name": "python",
   "nbconvert_exporter": "python",
   "pygments_lexer": "ipython3",
   "version": "3.6.2"
  }
 },
 "nbformat": 4,
 "nbformat_minor": 2
}
